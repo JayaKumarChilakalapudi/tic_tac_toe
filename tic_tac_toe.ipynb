{
  "nbformat": 4,
  "nbformat_minor": 0,
  "metadata": {
    "colab": {
      "name": "tic_tac_toe.ipynb",
      "provenance": [],
      "collapsed_sections": []
    },
    "kernelspec": {
      "name": "python3",
      "display_name": "Python 3"
    },
    "language_info": {
      "name": "python"
    }
  },
  "cells": [
    {
      "cell_type": "code",
      "execution_count": null,
      "metadata": {
        "colab": {
          "base_uri": "https://localhost:8080/"
        },
        "id": "3kDqTqPaofCp",
        "outputId": "835f7681-80ad-4766-d398-dceba782f533"
      },
      "outputs": [
        {
          "output_type": "stream",
          "name": "stdout",
          "text": [
            "player 1 turn\n",
            "1\n",
            "* 2 3 \n",
            "\n",
            "4 5 6 \n",
            "\n",
            "7 8 9 \n",
            "\n",
            "player 1 turn\n",
            "2\n",
            "* + 3 \n",
            "\n",
            "4 5 6 \n",
            "\n",
            "7 8 9 \n",
            "\n",
            "player 1 turn\n",
            "3\n",
            "* + * \n",
            "\n",
            "4 5 6 \n",
            "\n",
            "7 8 9 \n",
            "\n",
            "player 1 turn\n",
            "5\n",
            "* + * \n",
            "\n",
            "4 + 6 \n",
            "\n",
            "7 8 9 \n",
            "\n",
            "player 1 turn\n",
            "4\n",
            "* + * \n",
            "\n",
            "* + 6 \n",
            "\n",
            "7 8 9 \n",
            "\n",
            "player 1 turn\n",
            "8\n",
            "player 2 won the game\n",
            "* + * \n",
            "\n",
            "* + 6 \n",
            "\n",
            "7 + 9 \n",
            "\n"
          ]
        }
      ],
      "source": [
        "def display(game):\n",
        "  for j in range(9):\n",
        "      print(game[j],end=\" \")\n",
        "      if((j+1)%3 == 0):\n",
        "        print(\"\\n\")\n",
        "def player_1(game,ga_ch,d):\n",
        "  while(1):\n",
        "    print(\"player 1 turn\")\n",
        "    in_put = int(input())\n",
        "    if(in_put in r and ga_ch[in_put-1] == 0):\n",
        "      break\n",
        "  game [in_put -1] = \"*\"\n",
        "  ga_ch [in_put-1] = 2\n",
        "  if(sum(ga_ch[0:3]) == 6 or sum(ga_ch[3:6]) == 6 or sum(ga_ch[6:9]) == 6 or (ga_ch[0] + ga_ch[3] + ga_ch[6]) == 6 or (ga_ch[1] + ga_ch[4] + ga_ch[7]) == 6 or (ga_ch[2] + ga_ch[5] + ga_ch[8]) == 6 or (ga_ch[0] + ga_ch[4] + ga_ch[8]) == 6 or (ga_ch[2] + ga_ch[4] + ga_ch[6]) == 6):\n",
        "      print(\"player 1 won the game\")\n",
        "      d = 1\n",
        "  return game,ga_ch,d\n",
        "def player_2(game,ga_ch,d):\n",
        "  while(1):\n",
        "    print(\"player 1 turn\")\n",
        "    in_put = int(input())\n",
        "    if((in_put in r) and (ga_ch[in_put-1] == 0)):\n",
        "      break\n",
        "  game[in_put-1] = \"+\"\n",
        "  ga_ch[in_put-1] = 5\n",
        "  if(sum(ga_ch[0:3]) == 15 or sum(ga_ch[3:6]) == 15 or sum(ga_ch[6:9]) == 15 or (ga_ch[0] + ga_ch[3] + ga_ch[6]) == 15 or (ga_ch[1] + ga_ch[4] + ga_ch[7]) == 15 or (ga_ch[2] + ga_ch[5] + ga_ch[8]) == 15 or (ga_ch[0] + ga_ch[4] + ga_ch[8]) == 15 or (ga_ch[2] + ga_ch[4] + ga_ch[6]) == 15):\n",
        "      print(\"player 2 won the game\")\n",
        "      d = 1\n",
        "  return game,ga_ch,d\n",
        "\n",
        "game = [1,2,3,4,5,6,7,8,9]\n",
        "ga_ch = [0,0,0,0,0,0,0,0,0]\n",
        "d = 0\n",
        "r = list(range(1,10))\n",
        "for i in range(9):\n",
        " [game,ga_ch,d] = player_1(game,ga_ch,d)\n",
        " display(game)\n",
        " if(d):\n",
        "   break\n",
        " [game,ga_ch,d] = player_2(game,ga_ch,d)\n",
        " display(game)\n",
        " if(d):\n",
        "   break\n",
        "\n",
        "  \n",
        "\n",
        "  \n"
      ]
    }
  ]
}